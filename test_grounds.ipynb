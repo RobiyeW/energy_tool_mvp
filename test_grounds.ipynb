{
 "cells": [
  {
   "cell_type": "code",
   "execution_count": 2,
   "metadata": {},
   "outputs": [
    {
     "data": {
      "text/plain": [
       "(['Notes',\n",
       "  'Definitions and assumptions',\n",
       "  'Country Codes',\n",
       "  'H2_Pipelines',\n",
       "  'H2_Blending',\n",
       "  'UGS',\n",
       "  'H2_Ports',\n",
       "  'NH3_Ports',\n",
       "  'NH3_Cracking',\n",
       "  'MetOH_Ports'],\n",
       " ['Notes',\n",
       "  'Definitions and assumptions',\n",
       "  'Projects',\n",
       "  'References',\n",
       "  'Lists',\n",
       "  'Countries'])"
      ]
     },
     "execution_count": 2,
     "metadata": {},
     "output_type": "execute_result"
    }
   ],
   "source": [
    "# Let’s start by loading the uploaded files and exploring their structure! I’ll check the first few rows to understand the data and decide the next steps for cleaning, structuring, and manipulation.\n",
    "import pandas as pd\n",
    "\n",
    "# Load the uploaded Excel files\n",
    "infrastructure_df = pd.ExcelFile(\"IEA Hydrogen Infrastracture Database.xlsx\")\n",
    "production_df = pd.ExcelFile(\"IEA Hydrogen Production Projects Database.xlsx\")\n",
    "\n",
    "# Check the sheet names to understand the data organization\n",
    "infrastructure_df.sheet_names, production_df.sheet_names\n",
    "\n"
   ]
  }
 ],
 "metadata": {
  "kernelspec": {
   "display_name": "datascience",
   "language": "python",
   "name": "python3"
  },
  "language_info": {
   "codemirror_mode": {
    "name": "ipython",
    "version": 3
   },
   "file_extension": ".py",
   "mimetype": "text/x-python",
   "name": "python",
   "nbconvert_exporter": "python",
   "pygments_lexer": "ipython3",
   "version": "3.9.12"
  }
 },
 "nbformat": 4,
 "nbformat_minor": 2
}
